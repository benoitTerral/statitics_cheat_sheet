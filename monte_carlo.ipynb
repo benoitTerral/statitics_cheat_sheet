{
 "cells": [
  {
   "cell_type": "markdown",
   "metadata": {},
   "source": [
    "# Monte Carlo"
   ]
  },
  {
   "cell_type": "markdown",
   "metadata": {},
   "source": [
    "### Prérequis"
   ]
  },
  {
   "cell_type": "markdown",
   "metadata": {},
   "source": [
    "#### Distribution uniforme continue"
   ]
  },
  {
   "cell_type": "markdown",
   "metadata": {},
   "source": [
    "Toutes les valeurs possibles dans un intervalle donné ont une probabilité égale d'être observées.  \n",
    "La notation mathématique d'une variable aléatoire X suivant une distribution uniforme continue sur l'intervalle [a, b] est généralement écrite comme suit :  \n",
    "__X ~ U(a, b)__"
   ]
  },
  {
   "cell_type": "markdown",
   "metadata": {},
   "source": [
    "### import"
   ]
  },
  {
   "cell_type": "code",
   "execution_count": 70,
   "metadata": {},
   "outputs": [],
   "source": [
    "import numpy as np"
   ]
  },
  {
   "cell_type": "code",
   "execution_count": 119,
   "metadata": {},
   "outputs": [],
   "source": [
    "def estimation_pi(nb_simulation):\n",
    "    x = np.random.uniform(-1, 1, nb_simulation)\n",
    "    y = np.random.uniform(-1, 1, nb_simulation)\n",
    "    distances = x ** 2 + y ** 2\n",
    "    n_inside = (distances <= 1).sum()\n",
    "    pi = 4 * n_inside / nb_simulation\n",
    "    return pi"
   ]
  },
  {
   "cell_type": "code",
   "execution_count": 120,
   "metadata": {},
   "outputs": [
    {
     "name": "stdout",
     "output_type": "stream",
     "text": [
      "0.4\n",
      "0.648\n",
      "0.6848\n",
      "0.68912\n",
      "0.698364\n",
      "0.6980124\n"
     ]
    }
   ],
   "source": [
    "print(estimation_pi(10))\n",
    "print(estimation_pi(1000))\n",
    "print(estimation_pi(10000))\n",
    "print(estimation_pi(100000))\n",
    "print(estimation_pi(1000000))\n",
    "print(estimation_pi(10000000))"
   ]
  },
  {
   "cell_type": "code",
   "execution_count": 112,
   "metadata": {},
   "outputs": [
    {
     "name": "stdout",
     "output_type": "stream",
     "text": [
      "15.700000000000001\n"
     ]
    }
   ],
   "source": [
    "print(3.14* 5)"
   ]
  },
  {
   "cell_type": "code",
   "execution_count": null,
   "metadata": {},
   "outputs": [],
   "source": []
  }
 ],
 "metadata": {
  "kernelspec": {
   "display_name": "Python 3",
   "language": "python",
   "name": "python3"
  },
  "language_info": {
   "codemirror_mode": {
    "name": "ipython",
    "version": 3
   },
   "file_extension": ".py",
   "mimetype": "text/x-python",
   "name": "python",
   "nbconvert_exporter": "python",
   "pygments_lexer": "ipython3",
   "version": "3.10.13"
  }
 },
 "nbformat": 4,
 "nbformat_minor": 2
}
